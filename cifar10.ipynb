{
  "nbformat": 4,
  "nbformat_minor": 0,
  "metadata": {
    "colab": {
      "name": "cifar10.ipynb",
      "provenance": [],
      "collapsed_sections": [],
      "authorship_tag": "ABX9TyPAoGkje7xGoVvgG05uef5i",
      "include_colab_link": true
    },
    "kernelspec": {
      "name": "python3",
      "display_name": "Python 3"
    },
    "language_info": {
      "name": "python"
    },
    "accelerator": "GPU"
  },
  "cells": [
    {
      "cell_type": "markdown",
      "metadata": {
        "id": "view-in-github",
        "colab_type": "text"
      },
      "source": [
        "<a href=\"https://colab.research.google.com/github/prashantpandya000/cifar_10/blob/main/cifar10.ipynb\" target=\"_parent\"><img src=\"https://colab.research.google.com/assets/colab-badge.svg\" alt=\"Open In Colab\"/></a>"
      ]
    },
    {
      "cell_type": "code",
      "metadata": {
        "id": "f604fRRTSRT7"
      },
      "source": [
        "# importing necessary library\n",
        "import tensorflow as tf \n",
        "from tensorflow.keras import datasets,layers, models\n",
        "import matplotlib.pyplot as plt \n",
        "import numpy as np"
      ],
      "execution_count": 1,
      "outputs": []
    },
    {
      "cell_type": "code",
      "metadata": {
        "id": "HqySkfwwSX8q"
      },
      "source": [
        "# loading dataset from keras\n",
        "(x_train,y_train), (x_test,y_test)=datasets.cifar10.load_data()"
      ],
      "execution_count": 2,
      "outputs": []
    },
    {
      "cell_type": "code",
      "metadata": {
        "id": "PXQ_Rm3wTx_t"
      },
      "source": [
        "# reshaping dataset \n",
        "y_train=y_train.reshape(-1,)"
      ],
      "execution_count": 3,
      "outputs": []
    },
    {
      "cell_type": "code",
      "metadata": {
        "colab": {
          "base_uri": "https://localhost:8080/"
        },
        "id": "M_lulMlHSdCP",
        "outputId": "d8b4ffc1-d8ad-4f0f-b2f2-1e0bf3797d16"
      },
      "source": [
        "print(x_train.shape)\n",
        "print(x_test.shape)"
      ],
      "execution_count": 4,
      "outputs": [
        {
          "output_type": "stream",
          "text": [
            "(50000, 32, 32, 3)\n",
            "(10000, 32, 32, 3)\n"
          ],
          "name": "stdout"
        }
      ]
    },
    {
      "cell_type": "code",
      "metadata": {
        "id": "Yvtj0Sr7Si4Q"
      },
      "source": [
        "# creating list for dataset\n",
        "classes=[\"airplane\",\"automobile\",\"bird\",\"cat\",\"deer\",\"dog\",\"frog\",\"horse\",\"ship\",\"truck\"]"
      ],
      "execution_count": 5,
      "outputs": []
    },
    {
      "cell_type": "code",
      "metadata": {
        "id": "cVnhVk0XTgsU"
      },
      "source": [
        "#function to check if datasee loaded is correct or not \n",
        "def plot_Sample(x,y,index):\n",
        "  plt.figure(figsize=(15,2))\n",
        "  plt.imshow(x[index])\n",
        "  plt.xlabel(classes[y[index]])\n"
      ],
      "execution_count": 6,
      "outputs": []
    },
    {
      "cell_type": "code",
      "metadata": {
        "colab": {
          "base_uri": "https://localhost:8080/",
          "height": 173
        },
        "id": "mOIqUqWnVDUd",
        "outputId": "83c09d77-a013-4004-debc-2c1f63905f6e"
      },
      "source": [
        "# calling the dataset to view image as well as name \n",
        "plot_Sample(x_train,y_train,99)"
      ],
      "execution_count": 7,
      "outputs": [
        {
          "output_type": "display_data",
          "data": {
            "image/png": "[encoded data removed]",
            "text/plain": [
              "<Figure size 1080x144 with 1 Axes>"
            ]
          },
          "metadata": {
            "tags": [],
            "needs_background": "light"
          }
        }
      ]
    },
    {
      "cell_type": "code",
      "metadata": {
        "id": "lS6moATaVLNd"
      },
      "source": [
        "# dividing data by 255 as we want our data in between 0 t0 1 \n",
        "x_train=x_train/255\n",
        "y_train=y_train/255"
      ],
      "execution_count": 8,
      "outputs": []
    },
    {
      "cell_type": "code",
      "metadata": {
        "colab": {
          "base_uri": "https://localhost:8080/"
        },
        "id": "BUVayhJ5Vmvf",
        "outputId": "30410cc7-d9c5-405e-a987-c2339f9b799d"
      },
      "source": [
        "#NETB\n",
        "\n",
        "NetB=models.Sequential([\n",
        "                         layers.Flatten(input_shape=(32,32,3)),\n",
        "                         layers.Dense(300,activation='relu'),\n",
        "                         layers.Dense(10,activation='sigmoid')\n",
        "])\n",
        "\n",
        "NetB.compile(optimizer='SGD',loss='sparse_categorical_crossentropy',metrics=['accuracy'])\n",
        "NetB.fit(x_train,y_train,epochs=50)"
      ],
      "execution_count": 9,
      "outputs": [
        {
          "output_type": "stream",
          "text": [
            "Epoch 1/50\n",
            "1563/1563 [==============================] - 4s 2ms/step - loss: 0.0031 - accuracy: 0.1000\n",
            "Epoch 2/50\n",
            "1563/1563 [==============================] - 3s 2ms/step - loss: 4.1435e-04 - accuracy: 0.1000\n",
            "Epoch 3/50\n",
            "1563/1563 [==============================] - 3s 2ms/step - loss: 2.7208e-04 - accuracy: 0.1000\n",
            "Epoch 4/50\n",
            "1563/1563 [==============================] - 3s 2ms/step - loss: 2.0693e-04 - accuracy: 0.1000\n",
            "Epoch 5/50\n",
            "1563/1563 [==============================] - 3s 2ms/step - loss: 1.6873e-04 - accuracy: 0.1000\n",
            "Epoch 6/50\n",
            "1563/1563 [==============================] - 3s 2ms/step - loss: 1.4329e-04 - accuracy: 0.1000\n",
            "Epoch 7/50\n",
            "1563/1563 [==============================] - 3s 2ms/step - loss: 1.2497e-04 - accuracy: 0.1000\n",
            "Epoch 8/50\n",
            "1563/1563 [==============================] - 3s 2ms/step - loss: 1.1109e-04 - accuracy: 0.1000\n",
            "Epoch 9/50\n",
            "1563/1563 [==============================] - 3s 2ms/step - loss: 1.0020e-04 - accuracy: 0.1000\n",
            "Epoch 10/50\n",
            "1563/1563 [==============================] - 3s 2ms/step - loss: 9.1390e-05 - accuracy: 0.1000\n",
            "Epoch 11/50\n",
            "1563/1563 [==============================] - 3s 2ms/step - loss: 8.4113e-05 - accuracy: 0.1000\n",
            "Epoch 12/50\n",
            "1563/1563 [==============================] - 4s 2ms/step - loss: 7.7979e-05 - accuracy: 0.1000\n",
            "Epoch 13/50\n",
            "1563/1563 [==============================] - 4s 2ms/step - loss: 7.2728e-05 - accuracy: 0.1000\n",
            "Epoch 14/50\n",
            "1563/1563 [==============================] - 4s 2ms/step - loss: 6.8177e-05 - accuracy: 0.1000\n",
            "Epoch 15/50\n",
            "1563/1563 [==============================] - 4s 2ms/step - loss: 6.4205e-05 - accuracy: 0.1000\n",
            "Epoch 16/50\n",
            "1563/1563 [==============================] - 4s 2ms/step - loss: 6.0694e-05 - accuracy: 0.1000\n",
            "Epoch 17/50\n",
            "1563/1563 [==============================] - 4s 2ms/step - loss: 5.7569e-05 - accuracy: 0.1000\n",
            "Epoch 18/50\n",
            "1563/1563 [==============================] - 3s 2ms/step - loss: 5.4767e-05 - accuracy: 0.1000\n",
            "Epoch 19/50\n",
            "1563/1563 [==============================] - 3s 2ms/step - loss: 5.2243e-05 - accuracy: 0.1000\n",
            "Epoch 20/50\n",
            "1563/1563 [==============================] - 3s 2ms/step - loss: 4.9913e-05 - accuracy: 0.1000\n",
            "Epoch 21/50\n",
            "1563/1563 [==============================] - 3s 2ms/step - loss: 4.7824e-05 - accuracy: 0.1000\n",
            "Epoch 22/50\n",
            "1563/1563 [==============================] - 3s 2ms/step - loss: 4.5917e-05 - accuracy: 0.1000\n",
            "Epoch 23/50\n",
            "1563/1563 [==============================] - 3s 2ms/step - loss: 4.4165e-05 - accuracy: 0.1000\n",
            "Epoch 24/50\n",
            "1563/1563 [==============================] - 3s 2ms/step - loss: 4.2545e-05 - accuracy: 0.1000\n",
            "Epoch 25/50\n",
            "1563/1563 [==============================] - 3s 2ms/step - loss: 4.1045e-05 - accuracy: 0.1000\n",
            "Epoch 26/50\n",
            "1563/1563 [==============================] - 3s 2ms/step - loss: 3.9648e-05 - accuracy: 0.1000\n",
            "Epoch 27/50\n",
            "1563/1563 [==============================] - 3s 2ms/step - loss: 3.8349e-05 - accuracy: 0.1000\n",
            "Epoch 28/50\n",
            "1563/1563 [==============================] - 3s 2ms/step - loss: 3.7136e-05 - accuracy: 0.1000\n",
            "Epoch 29/50\n",
            "1563/1563 [==============================] - 3s 2ms/step - loss: 3.6001e-05 - accuracy: 0.1000\n",
            "Epoch 30/50\n",
            "1563/1563 [==============================] - 3s 2ms/step - loss: 3.4937e-05 - accuracy: 0.1000\n",
            "Epoch 31/50\n",
            "1563/1563 [==============================] - 4s 2ms/step - loss: 3.3936e-05 - accuracy: 0.1000\n",
            "Epoch 32/50\n",
            "1563/1563 [==============================] - 4s 2ms/step - loss: 3.2991e-05 - accuracy: 0.1000\n",
            "Epoch 33/50\n",
            "1563/1563 [==============================] - 4s 2ms/step - loss: 3.2098e-05 - accuracy: 0.1000\n",
            "Epoch 34/50\n",
            "1563/1563 [==============================] - 4s 2ms/step - loss: 3.1255e-05 - accuracy: 0.1000\n",
            "Epoch 35/50\n",
            "1563/1563 [==============================] - 4s 2ms/step - loss: 3.0457e-05 - accuracy: 0.1000\n",
            "Epoch 36/50\n",
            "1563/1563 [==============================] - 4s 2ms/step - loss: 2.9698e-05 - accuracy: 0.1000\n",
            "Epoch 37/50\n",
            "1563/1563 [==============================] - 4s 2ms/step - loss: 2.8977e-05 - accuracy: 0.1000\n",
            "Epoch 38/50\n",
            "1563/1563 [==============================] - 3s 2ms/step - loss: 2.8290e-05 - accuracy: 0.1000\n",
            "Epoch 39/50\n",
            "1563/1563 [==============================] - 3s 2ms/step - loss: 2.7636e-05 - accuracy: 0.1000\n",
            "Epoch 40/50\n",
            "1563/1563 [==============================] - 3s 2ms/step - loss: 2.7013e-05 - accuracy: 0.1000\n",
            "Epoch 41/50\n",
            "1563/1563 [==============================] - 3s 2ms/step - loss: 2.6418e-05 - accuracy: 0.1000\n",
            "Epoch 42/50\n",
            "1563/1563 [==============================] - 3s 2ms/step - loss: 2.5849e-05 - accuracy: 0.1000\n",
            "Epoch 43/50\n",
            "1563/1563 [==============================] - 3s 2ms/step - loss: 2.5304e-05 - accuracy: 0.1000\n",
            "Epoch 44/50\n",
            "1563/1563 [==============================] - 3s 2ms/step - loss: 2.4781e-05 - accuracy: 0.1000\n",
            "Epoch 45/50\n",
            "1563/1563 [==============================] - 3s 2ms/step - loss: 2.4281e-05 - accuracy: 0.1000\n",
            "Epoch 46/50\n",
            "1563/1563 [==============================] - 3s 2ms/step - loss: 2.3802e-05 - accuracy: 0.1000\n",
            "Epoch 47/50\n",
            "1563/1563 [==============================] - 3s 2ms/step - loss: 2.3339e-05 - accuracy: 0.1000\n",
            "Epoch 48/50\n",
            "1563/1563 [==============================] - 3s 2ms/step - loss: 2.2896e-05 - accuracy: 0.1000\n",
            "Epoch 49/50\n",
            "1563/1563 [==============================] - 3s 2ms/step - loss: 2.2470e-05 - accuracy: 0.1000\n",
            "Epoch 50/50\n",
            "1563/1563 [==============================] - 4s 2ms/step - loss: 2.2059e-05 - accuracy: 0.1000\n"
          ],
          "name": "stdout"
        },
        {
          "output_type": "execute_result",
          "data": {
            "text/plain": [
              "<tensorflow.python.keras.callbacks.History at 0x7f3bc7d15210>"
            ]
          },
          "metadata": {
            "tags": []
          },
          "execution_count": 9
        }
      ]
    },
    {
      "cell_type": "code",
      "metadata": {
        "colab": {
          "base_uri": "https://localhost:8080/"
        },
        "id": "DEnFhiAXXaEt",
        "outputId": "db64429f-00a1-40b9-8081-f7e7e0507a54"
      },
      "source": [
        "#NETA\n",
        "\n",
        "NetA=models.Sequential([\n",
        "                         layers.Flatten(input_shape=(32,32,3)),\n",
        "                         layers.Dense(10,activation='sigmoid')\n",
        "])\n",
        "\n",
        "NetA.compile(optimizer='SGD',loss='sparse_categorical_crossentropy',metrics=['accuracy'])\n",
        "NetA.fit(x_train,y_train,epochs=50)"
      ],
      "execution_count": 21,
      "outputs": [
        {
          "output_type": "stream",
          "text": [
            "Epoch 1/50\n",
            "1563/1563 [==============================] - 3s 2ms/step - loss: 0.0029 - accuracy: 0.1000\n",
            "Epoch 2/50\n",
            "1563/1563 [==============================] - 3s 2ms/step - loss: 4.9973e-04 - accuracy: 0.1000\n",
            "Epoch 3/50\n",
            "1563/1563 [==============================] - 3s 2ms/step - loss: 3.4537e-04 - accuracy: 0.1000\n",
            "Epoch 4/50\n",
            "1563/1563 [==============================] - 3s 2ms/step - loss: 2.7207e-04 - accuracy: 0.1000\n",
            "Epoch 5/50\n",
            "1563/1563 [==============================] - 3s 2ms/step - loss: 2.2772e-04 - accuracy: 0.1000\n",
            "Epoch 6/50\n",
            "1563/1563 [==============================] - 3s 2ms/step - loss: 1.9759e-04 - accuracy: 0.1000\n",
            "Epoch 7/50\n",
            "1563/1563 [==============================] - 3s 2ms/step - loss: 1.7555e-04 - accuracy: 0.1000\n",
            "Epoch 8/50\n",
            "1563/1563 [==============================] - 3s 2ms/step - loss: 1.5861e-04 - accuracy: 0.1000\n",
            "Epoch 9/50\n",
            "1563/1563 [==============================] - 3s 2ms/step - loss: 1.4512e-04 - accuracy: 0.1000\n",
            "Epoch 10/50\n",
            "1563/1563 [==============================] - 3s 2ms/step - loss: 1.3406e-04 - accuracy: 0.1000\n",
            "Epoch 11/50\n",
            "1563/1563 [==============================] - 3s 2ms/step - loss: 1.2484e-04 - accuracy: 0.1000\n",
            "Epoch 12/50\n",
            "1563/1563 [==============================] - 3s 2ms/step - loss: 1.1698e-04 - accuracy: 0.1000\n",
            "Epoch 13/50\n",
            "1563/1563 [==============================] - 3s 2ms/step - loss: 1.1019e-04 - accuracy: 0.1000\n",
            "Epoch 14/50\n",
            "1563/1563 [==============================] - 3s 2ms/step - loss: 1.0428e-04 - accuracy: 0.1000\n",
            "Epoch 15/50\n",
            "1563/1563 [==============================] - 3s 2ms/step - loss: 9.9062e-05 - accuracy: 0.1000\n",
            "Epoch 16/50\n",
            "1563/1563 [==============================] - 3s 2ms/step - loss: 9.4412e-05 - accuracy: 0.1000\n",
            "Epoch 17/50\n",
            "1563/1563 [==============================] - 3s 2ms/step - loss: 9.0248e-05 - accuracy: 0.1000\n",
            "Epoch 18/50\n",
            "1563/1563 [==============================] - 3s 2ms/step - loss: 8.6494e-05 - accuracy: 0.1000\n",
            "Epoch 19/50\n",
            "1563/1563 [==============================] - 3s 2ms/step - loss: 8.3086e-05 - accuracy: 0.1000\n",
            "Epoch 20/50\n",
            "1563/1563 [==============================] - 3s 2ms/step - loss: 7.9976e-05 - accuracy: 0.1000\n",
            "Epoch 21/50\n",
            "1563/1563 [==============================] - 3s 2ms/step - loss: 7.7126e-05 - accuracy: 0.1000\n",
            "Epoch 22/50\n",
            "1563/1563 [==============================] - 3s 2ms/step - loss: 7.4501e-05 - accuracy: 0.1000\n",
            "Epoch 23/50\n",
            "1563/1563 [==============================] - 3s 2ms/step - loss: 7.2076e-05 - accuracy: 0.1000\n",
            "Epoch 24/50\n",
            "1563/1563 [==============================] - 3s 2ms/step - loss: 6.9828e-05 - accuracy: 0.1000\n",
            "Epoch 25/50\n",
            "1563/1563 [==============================] - 3s 2ms/step - loss: 6.7735e-05 - accuracy: 0.1000\n",
            "Epoch 26/50\n",
            "1563/1563 [==============================] - 3s 2ms/step - loss: 6.5782e-05 - accuracy: 0.1000\n",
            "Epoch 27/50\n",
            "1563/1563 [==============================] - 3s 2ms/step - loss: 6.3955e-05 - accuracy: 0.1000\n",
            "Epoch 28/50\n",
            "1563/1563 [==============================] - 3s 2ms/step - loss: 6.2240e-05 - accuracy: 0.1000\n",
            "Epoch 29/50\n",
            "1563/1563 [==============================] - 3s 2ms/step - loss: 6.0631e-05 - accuracy: 0.1000\n",
            "Epoch 30/50\n",
            "1563/1563 [==============================] - 3s 2ms/step - loss: 5.9114e-05 - accuracy: 0.1000\n",
            "Epoch 31/50\n",
            "1563/1563 [==============================] - 3s 2ms/step - loss: 5.7682e-05 - accuracy: 0.1000\n",
            "Epoch 32/50\n",
            "1563/1563 [==============================] - 3s 2ms/step - loss: 5.6326e-05 - accuracy: 0.1000\n",
            "Epoch 33/50\n",
            "1563/1563 [==============================] - 3s 2ms/step - loss: 5.5043e-05 - accuracy: 0.1000\n",
            "Epoch 34/50\n",
            "1563/1563 [==============================] - 3s 2ms/step - loss: 5.3824e-05 - accuracy: 0.1000\n",
            "Epoch 35/50\n",
            "1563/1563 [==============================] - 3s 2ms/step - loss: 5.2665e-05 - accuracy: 0.1000\n",
            "Epoch 36/50\n",
            "1563/1563 [==============================] - 3s 2ms/step - loss: 5.1562e-05 - accuracy: 0.1000\n",
            "Epoch 37/50\n",
            "1563/1563 [==============================] - 3s 2ms/step - loss: 5.0510e-05 - accuracy: 0.1000\n",
            "Epoch 38/50\n",
            "1563/1563 [==============================] - 3s 2ms/step - loss: 4.9503e-05 - accuracy: 0.1000\n",
            "Epoch 39/50\n",
            "1563/1563 [==============================] - 3s 2ms/step - loss: 4.8544e-05 - accuracy: 0.1000\n",
            "Epoch 40/50\n",
            "1563/1563 [==============================] - 3s 2ms/step - loss: 4.7625e-05 - accuracy: 0.1000\n",
            "Epoch 41/50\n",
            "1563/1563 [==============================] - 3s 2ms/step - loss: 4.6746e-05 - accuracy: 0.1000\n",
            "Epoch 42/50\n",
            "1563/1563 [==============================] - 3s 2ms/step - loss: 4.5903e-05 - accuracy: 0.1000\n",
            "Epoch 43/50\n",
            "1563/1563 [==============================] - 3s 2ms/step - loss: 4.5091e-05 - accuracy: 0.1000\n",
            "Epoch 44/50\n",
            "1563/1563 [==============================] - 3s 2ms/step - loss: 4.4313e-05 - accuracy: 0.1000\n",
            "Epoch 45/50\n",
            "1563/1563 [==============================] - 3s 2ms/step - loss: 4.3565e-05 - accuracy: 0.1000\n",
            "Epoch 46/50\n",
            "1563/1563 [==============================] - 3s 2ms/step - loss: 4.2845e-05 - accuracy: 0.1000\n",
            "Epoch 47/50\n",
            "1563/1563 [==============================] - 3s 2ms/step - loss: 4.2150e-05 - accuracy: 0.1000\n",
            "Epoch 48/50\n",
            "1563/1563 [==============================] - 3s 2ms/step - loss: 4.1481e-05 - accuracy: 0.1000\n",
            "Epoch 49/50\n",
            "1563/1563 [==============================] - 3s 2ms/step - loss: 4.0835e-05 - accuracy: 0.1000\n",
            "Epoch 50/50\n",
            "1563/1563 [==============================] - 3s 2ms/step - loss: 4.0212e-05 - accuracy: 0.1000\n"
          ],
          "name": "stdout"
        },
        {
          "output_type": "execute_result",
          "data": {
            "text/plain": [
              "<tensorflow.python.keras.callbacks.History at 0x7f3ade4edc10>"
            ]
          },
          "metadata": {
            "tags": []
          },
          "execution_count": 21
        }
      ]
    },
    {
      "cell_type": "code",
      "metadata": {
        "colab": {
          "base_uri": "https://localhost:8080/"
        },
        "id": "Y5Z0_d1vajy4",
        "outputId": "5ebf8270-7323-45f5-ac4e-a8f2aabf823b"
      },
      "source": [
        "# evaluating NetA model\n",
        "NetA.evaluate(x_test,y_test)"
      ],
      "execution_count": 22,
      "outputs": [
        {
          "output_type": "stream",
          "text": [
            "313/313 [==============================] - 1s 2ms/step - loss: 6017.0659 - accuracy: 0.1000\n"
          ],
          "name": "stdout"
        },
        {
          "output_type": "execute_result",
          "data": {
            "text/plain": [
              "[6017.06591796875, 0.10000000149011612]"
            ]
          },
          "metadata": {
            "tags": []
          },
          "execution_count": 22
        }
      ]
    },
    {
      "cell_type": "code",
      "metadata": {
        "colab": {
          "base_uri": "https://localhost:8080/"
        },
        "id": "836gk979cL9r",
        "outputId": "6bd71420-456f-4e71-cc80-c54274eb341a"
      },
      "source": [
        "# evaluating NetB model\n",
        "NetB.evaluate(x_test,y_test)"
      ],
      "execution_count": 23,
      "outputs": [
        {
          "output_type": "stream",
          "text": [
            "313/313 [==============================] - 1s 2ms/step - loss: 6822.1343 - accuracy: 0.1000\n"
          ],
          "name": "stdout"
        },
        {
          "output_type": "execute_result",
          "data": {
            "text/plain": [
              "[6822.13427734375, 0.10000000149011612]"
            ]
          },
          "metadata": {
            "tags": []
          },
          "execution_count": 23
        }
      ]
    },
    {
      "cell_type": "code",
      "metadata": {
        "id": "YlMMSW6RcRRt"
      },
      "source": [
        "# report generation to see precision recall f1-score and support for NetA\n",
        "from sklearn.metrics import confusion_matrix, classification_report\n",
        "import numpy as np\n",
        "y_pred=NetA.predict(x_test)\n",
        "y_pred_classes=[np.argmax(element) for element in y_pred]\n",
        "\n",
        "print(\"classification report for NetA \\n\",classification_report(y_test,y_pred_classes))"
      ],
      "execution_count": null,
      "outputs": []
    },
    {
      "cell_type": "code",
      "metadata": {
        "id": "K0CBS-JmdG95"
      },
      "source": [
        "# report generation to see precision recall f1-score and support for NetB\n",
        "\n",
        "from sklearn.metrics import confusion_matrix, classification_report\n",
        "import numpy as np\n",
        "y_pred=NetB.predict(x_test)\n",
        "y_pred_classes=[np.argmax(element) for element in y_pred]\n",
        "\n",
        "print(\"classification report for NetB \\n\",classification_report(y_test,y_pred_classes))"
      ],
      "execution_count": null,
      "outputs": []
    },
    {
      "cell_type": "code",
      "metadata": {
        "colab": {
          "base_uri": "https://localhost:8080/"
        },
        "id": "vRzTjHcOdPsW",
        "outputId": "16d57230-d7c1-4f6c-b5ff-fce4e2b43a26"
      },
      "source": [
        "#NETC\n",
        "\n",
        "NetC=models.Sequential([\n",
        "                        #cnn\n",
        "                        layers.Conv2D(filters=32,kernel_size=(5,25),activation='relu',input_shape=(32,32,3)),\n",
        "                        layers.MaxPooling2D((2,2)),   \n",
        "                        #Dense\n",
        "                        layers.Flatten(input_shape=(32,32,3)),\n",
        "                        layers.Dense(10,activation='sigmoid')\n",
        "])\n",
        "\n",
        "NetC.compile(optimizer='adam',loss='sparse_categorical_crossentropy',metrics=['accuracy'])\n",
        "NetC.fit(x_train,y_train,epochs=50)"
      ],
      "execution_count": 15,
      "outputs": [
        {
          "output_type": "stream",
          "text": [
            "Epoch 1/50\n",
            "1563/1563 [==============================] - 6s 3ms/step - loss: 0.0031 - accuracy: 0.0999\n",
            "Epoch 2/50\n",
            "1563/1563 [==============================] - 4s 2ms/step - loss: 1.1377e-06 - accuracy: 0.1000\n",
            "Epoch 3/50\n",
            "1563/1563 [==============================] - 4s 2ms/step - loss: 4.1093e-07 - accuracy: 0.1000\n",
            "Epoch 4/50\n",
            "1563/1563 [==============================] - 4s 2ms/step - loss: 1.0976e-07 - accuracy: 0.1000\n",
            "Epoch 5/50\n",
            "1563/1563 [==============================] - 4s 2ms/step - loss: 4.1632e-08 - accuracy: 0.1000\n",
            "Epoch 6/50\n",
            "1563/1563 [==============================] - 4s 2ms/step - loss: 1.1462e-08 - accuracy: 0.1000\n",
            "Epoch 7/50\n",
            "1563/1563 [==============================] - 4s 2ms/step - loss: 4.9421e-09 - accuracy: 0.1000\n",
            "Epoch 8/50\n",
            "1563/1563 [==============================] - 4s 2ms/step - loss: 2.2315e-09 - accuracy: 0.1000\n",
            "Epoch 9/50\n",
            "1563/1563 [==============================] - 4s 2ms/step - loss: 9.0121e-10 - accuracy: 0.1000\n",
            "Epoch 10/50\n",
            "1563/1563 [==============================] - 4s 2ms/step - loss: 4.1961e-10 - accuracy: 0.1000\n",
            "Epoch 11/50\n",
            "1563/1563 [==============================] - 4s 2ms/step - loss: 2.2173e-10 - accuracy: 0.1000\n",
            "Epoch 12/50\n",
            "1563/1563 [==============================] - 4s 2ms/step - loss: 1.2636e-10 - accuracy: 0.1000\n",
            "Epoch 13/50\n",
            "1563/1563 [==============================] - 4s 2ms/step - loss: 8.3446e-11 - accuracy: 0.1000\n",
            "Epoch 14/50\n",
            "1563/1563 [==============================] - 4s 3ms/step - loss: 5.4836e-11 - accuracy: 0.1000\n",
            "Epoch 15/50\n",
            "1563/1563 [==============================] - 4s 3ms/step - loss: 4.0531e-11 - accuracy: 0.1000\n",
            "Epoch 16/50\n",
            "1563/1563 [==============================] - 4s 3ms/step - loss: 3.3379e-11 - accuracy: 0.1000\n",
            "Epoch 17/50\n",
            "1563/1563 [==============================] - 4s 3ms/step - loss: 2.6226e-11 - accuracy: 0.1000\n",
            "Epoch 18/50\n",
            "1563/1563 [==============================] - 4s 3ms/step - loss: 1.9073e-11 - accuracy: 0.1000\n",
            "Epoch 19/50\n",
            "1563/1563 [==============================] - 4s 3ms/step - loss: 1.6689e-11 - accuracy: 0.1000\n",
            "Epoch 20/50\n",
            "1563/1563 [==============================] - 4s 2ms/step - loss: 1.4305e-11 - accuracy: 0.1000\n",
            "Epoch 21/50\n",
            "1563/1563 [==============================] - 4s 2ms/step - loss: 1.4305e-11 - accuracy: 0.1000\n",
            "Epoch 22/50\n",
            "1563/1563 [==============================] - 4s 2ms/step - loss: 1.1921e-11 - accuracy: 0.1000\n",
            "Epoch 23/50\n",
            "1563/1563 [==============================] - 4s 2ms/step - loss: 1.1921e-11 - accuracy: 0.1000\n",
            "Epoch 24/50\n",
            "1563/1563 [==============================] - 4s 2ms/step - loss: 9.5367e-12 - accuracy: 0.1000\n",
            "Epoch 25/50\n",
            "1563/1563 [==============================] - 4s 2ms/step - loss: 9.5367e-12 - accuracy: 0.1000\n",
            "Epoch 26/50\n",
            "1563/1563 [==============================] - 4s 2ms/step - loss: 9.5367e-12 - accuracy: 0.1000\n",
            "Epoch 27/50\n",
            "1563/1563 [==============================] - 4s 2ms/step - loss: 4.7684e-12 - accuracy: 0.1000\n",
            "Epoch 28/50\n",
            "1563/1563 [==============================] - 4s 2ms/step - loss: 4.7684e-12 - accuracy: 0.1000\n",
            "Epoch 29/50\n",
            "1563/1563 [==============================] - 4s 2ms/step - loss: 0.0000e+00 - accuracy: 0.1000\n",
            "Epoch 30/50\n",
            "1563/1563 [==============================] - 4s 3ms/step - loss: 0.0000e+00 - accuracy: 0.1000\n",
            "Epoch 31/50\n",
            "1563/1563 [==============================] - 4s 3ms/step - loss: 0.0000e+00 - accuracy: 0.1000\n",
            "Epoch 32/50\n",
            "1563/1563 [==============================] - 4s 3ms/step - loss: 0.0000e+00 - accuracy: 0.1000\n",
            "Epoch 33/50\n",
            "1563/1563 [==============================] - 4s 3ms/step - loss: 0.0000e+00 - accuracy: 0.1000\n",
            "Epoch 34/50\n",
            "1563/1563 [==============================] - 4s 3ms/step - loss: 0.0000e+00 - accuracy: 0.1000\n",
            "Epoch 35/50\n",
            "1563/1563 [==============================] - 4s 3ms/step - loss: 0.0000e+00 - accuracy: 0.1000\n",
            "Epoch 36/50\n",
            "1563/1563 [==============================] - 4s 3ms/step - loss: 0.0000e+00 - accuracy: 0.1000\n",
            "Epoch 37/50\n",
            "1563/1563 [==============================] - 4s 2ms/step - loss: 0.0000e+00 - accuracy: 0.1000\n",
            "Epoch 38/50\n",
            "1563/1563 [==============================] - 4s 2ms/step - loss: 0.0000e+00 - accuracy: 0.1000\n",
            "Epoch 39/50\n",
            "1563/1563 [==============================] - 4s 2ms/step - loss: 0.0000e+00 - accuracy: 0.1000\n",
            "Epoch 40/50\n",
            "1563/1563 [==============================] - 4s 2ms/step - loss: 0.0000e+00 - accuracy: 0.1000\n",
            "Epoch 41/50\n",
            "1563/1563 [==============================] - 4s 2ms/step - loss: 0.0000e+00 - accuracy: 0.1000\n",
            "Epoch 42/50\n",
            "1563/1563 [==============================] - 4s 2ms/step - loss: 0.0000e+00 - accuracy: 0.1000\n",
            "Epoch 43/50\n",
            "1563/1563 [==============================] - 4s 3ms/step - loss: 0.0000e+00 - accuracy: 0.1000\n",
            "Epoch 44/50\n",
            "1563/1563 [==============================] - 4s 3ms/step - loss: 0.0000e+00 - accuracy: 0.1000\n",
            "Epoch 45/50\n",
            "1563/1563 [==============================] - 4s 2ms/step - loss: 0.0000e+00 - accuracy: 0.1000\n",
            "Epoch 46/50\n",
            "1563/1563 [==============================] - 4s 2ms/step - loss: 0.0000e+00 - accuracy: 0.1000\n",
            "Epoch 47/50\n",
            "1563/1563 [==============================] - 4s 3ms/step - loss: 0.0000e+00 - accuracy: 0.1000\n",
            "Epoch 48/50\n",
            "1563/1563 [==============================] - 4s 3ms/step - loss: 0.0000e+00 - accuracy: 0.1000\n",
            "Epoch 49/50\n",
            "1563/1563 [==============================] - 4s 3ms/step - loss: 0.0000e+00 - accuracy: 0.1000\n",
            "Epoch 50/50\n",
            "1563/1563 [==============================] - 4s 3ms/step - loss: 0.0000e+00 - accuracy: 0.1000\n"
          ],
          "name": "stdout"
        },
        {
          "output_type": "execute_result",
          "data": {
            "text/plain": [
              "<tensorflow.python.keras.callbacks.History at 0x7f3b5275db10>"
            ]
          },
          "metadata": {
            "tags": []
          },
          "execution_count": 15
        }
      ]
    },
    {
      "cell_type": "code",
      "metadata": {
        "colab": {
          "base_uri": "https://localhost:8080/"
        },
        "id": "nCDppKdih3hq",
        "outputId": "d3c8f9de-0cc8-44b3-8863-d5811658e2fe"
      },
      "source": [
        "# evaluating NetB model\n",
        "NetC.evaluate(x_test,y_test)"
      ],
      "execution_count": 16,
      "outputs": [
        {
          "output_type": "stream",
          "text": [
            "313/313 [==============================] - 1s 2ms/step - loss: 23249.3906 - accuracy: 0.1000\n"
          ],
          "name": "stdout"
        },
        {
          "output_type": "execute_result",
          "data": {
            "text/plain": [
              "[23249.390625, 0.10000000149011612]"
            ]
          },
          "metadata": {
            "tags": []
          },
          "execution_count": 16
        }
      ]
    },
    {
      "cell_type": "code",
      "metadata": {
        "colab": {
          "base_uri": "https://localhost:8080/"
        },
        "id": "RdKv7L5nh4FL",
        "outputId": "f38706fe-5f38-45fe-f204-41cebe68b06e"
      },
      "source": [
        "from sklearn.metrics import confusion_matrix, classification_report\n",
        "import numpy as np\n",
        "y_pred=NetC.predict(x_test)\n",
        "y_pred_classes=[np.argmax(element) for element in y_pred]\n",
        "\n",
        "print(\"classification report for NetC \\n\",classification_report(y_test,y_pred_classes))"
      ],
      "execution_count": 17,
      "outputs": [
        {
          "output_type": "stream",
          "text": [
            "classification report for NetC \n",
            "               precision    recall  f1-score   support\n",
            "\n",
            "           0       0.10      1.00      0.18      1000\n",
            "           1       0.00      0.00      0.00      1000\n",
            "           2       0.00      0.00      0.00      1000\n",
            "           3       0.00      0.00      0.00      1000\n",
            "           4       0.00      0.00      0.00      1000\n",
            "           5       0.00      0.00      0.00      1000\n",
            "           6       0.00      0.00      0.00      1000\n",
            "           7       0.00      0.00      0.00      1000\n",
            "           8       0.00      0.00      0.00      1000\n",
            "           9       0.00      0.00      0.00      1000\n",
            "\n",
            "    accuracy                           0.10     10000\n",
            "   macro avg       0.01      0.10      0.02     10000\n",
            "weighted avg       0.01      0.10      0.02     10000\n",
            "\n"
          ],
          "name": "stdout"
        },
        {
          "output_type": "stream",
          "text": [
            "/usr/local/lib/python3.7/dist-packages/sklearn/metrics/_classification.py:1272: UndefinedMetricWarning: Precision and F-score are ill-defined and being set to 0.0 in labels with no predicted samples. Use `zero_division` parameter to control this behavior.\n",
            "  _warn_prf(average, modifier, msg_start, len(result))\n"
          ],
          "name": "stderr"
        }
      ]
    },
    {
      "cell_type": "code",
      "metadata": {
        "colab": {
          "base_uri": "https://localhost:8080/",
          "height": 370
        },
        "id": "QpHAn8WMfBvf",
        "outputId": "63ba1f2c-c1b6-4286-f1a5-d6687fb7cb58"
      },
      "source": [
        "nets = [NetA(), NetB(), NetC(), NetD()]\n",
        "histories = []\n",
        "for net in nets:\n",
        "  net_name = type(net).__name__\n",
        "  print(f'==== Training {net_name} ====')\n",
        "  train_history, test_history = train(net, train_loader, test_loader,num_epochs=NUM_EPOCHS,learning_rate=LEARNING_RATE,compute_accs=True)\n",
        "  histories.append({\n",
        "      'name': net_name,\n",
        "      'net': net,\n",
        "      'train_accs': train_history,\n",
        "      'test_accs': test_history\n",
        "      })\n",
        "plot_history(histories)"
      ],
      "execution_count": 18,
      "outputs": [
        {
          "output_type": "error",
          "ename": "ValueError",
          "evalue": "ignored",
          "traceback": [
            "\u001b[0;31m---------------------------------------------------------------------------\u001b[0m",
            "\u001b[0;31mValueError\u001b[0m                                Traceback (most recent call last)",
            "\u001b[0;32m<ipython-input-18-7b763c964704>\u001b[0m in \u001b[0;36m<module>\u001b[0;34m()\u001b[0m\n\u001b[0;32m----> 1\u001b[0;31m \u001b[0mnets\u001b[0m \u001b[0;34m=\u001b[0m \u001b[0;34m[\u001b[0m\u001b[0mNetA\u001b[0m\u001b[0;34m(\u001b[0m\u001b[0;34m)\u001b[0m\u001b[0;34m,\u001b[0m \u001b[0mNetB\u001b[0m\u001b[0;34m(\u001b[0m\u001b[0;34m)\u001b[0m\u001b[0;34m,\u001b[0m \u001b[0mNetC\u001b[0m\u001b[0;34m(\u001b[0m\u001b[0;34m)\u001b[0m\u001b[0;34m,\u001b[0m \u001b[0mNetD\u001b[0m\u001b[0;34m(\u001b[0m\u001b[0;34m)\u001b[0m\u001b[0;34m]\u001b[0m\u001b[0;34m\u001b[0m\u001b[0;34m\u001b[0m\u001b[0m\n\u001b[0m\u001b[1;32m      2\u001b[0m \u001b[0mhistories\u001b[0m \u001b[0;34m=\u001b[0m \u001b[0;34m[\u001b[0m\u001b[0;34m]\u001b[0m\u001b[0;34m\u001b[0m\u001b[0;34m\u001b[0m\u001b[0m\n\u001b[1;32m      3\u001b[0m \u001b[0;32mfor\u001b[0m \u001b[0mnet\u001b[0m \u001b[0;32min\u001b[0m \u001b[0mnets\u001b[0m\u001b[0;34m:\u001b[0m\u001b[0;34m\u001b[0m\u001b[0;34m\u001b[0m\u001b[0m\n\u001b[1;32m      4\u001b[0m   \u001b[0mnet_name\u001b[0m \u001b[0;34m=\u001b[0m \u001b[0mtype\u001b[0m\u001b[0;34m(\u001b[0m\u001b[0mnet\u001b[0m\u001b[0;34m)\u001b[0m\u001b[0;34m.\u001b[0m\u001b[0m__name__\u001b[0m\u001b[0;34m\u001b[0m\u001b[0;34m\u001b[0m\u001b[0m\n\u001b[1;32m      5\u001b[0m   \u001b[0mprint\u001b[0m\u001b[0;34m(\u001b[0m\u001b[0;34mf'==== Training {net_name} ===='\u001b[0m\u001b[0;34m)\u001b[0m\u001b[0;34m\u001b[0m\u001b[0;34m\u001b[0m\u001b[0m\n",
            "\u001b[0;32m/usr/local/lib/python3.7/dist-packages/tensorflow/python/keras/engine/base_layer.py\u001b[0m in \u001b[0;36m__call__\u001b[0;34m(self, *args, **kwargs)\u001b[0m\n\u001b[1;32m    958\u001b[0m     \u001b[0;31m#   not to any other argument.\u001b[0m\u001b[0;34m\u001b[0m\u001b[0;34m\u001b[0m\u001b[0;34m\u001b[0m\u001b[0m\n\u001b[1;32m    959\u001b[0m     \u001b[0;31m# - setting the SavedModel saving spec.\u001b[0m\u001b[0;34m\u001b[0m\u001b[0;34m\u001b[0m\u001b[0;34m\u001b[0m\u001b[0m\n\u001b[0;32m--> 960\u001b[0;31m     \u001b[0minputs\u001b[0m\u001b[0;34m,\u001b[0m \u001b[0margs\u001b[0m\u001b[0;34m,\u001b[0m \u001b[0mkwargs\u001b[0m \u001b[0;34m=\u001b[0m \u001b[0mself\u001b[0m\u001b[0;34m.\u001b[0m\u001b[0m_split_out_first_arg\u001b[0m\u001b[0;34m(\u001b[0m\u001b[0margs\u001b[0m\u001b[0;34m,\u001b[0m \u001b[0mkwargs\u001b[0m\u001b[0;34m)\u001b[0m\u001b[0;34m\u001b[0m\u001b[0;34m\u001b[0m\u001b[0m\n\u001b[0m\u001b[1;32m    961\u001b[0m     \u001b[0minput_list\u001b[0m \u001b[0;34m=\u001b[0m \u001b[0mnest\u001b[0m\u001b[0;34m.\u001b[0m\u001b[0mflatten\u001b[0m\u001b[0;34m(\u001b[0m\u001b[0minputs\u001b[0m\u001b[0;34m)\u001b[0m\u001b[0;34m\u001b[0m\u001b[0;34m\u001b[0m\u001b[0m\n\u001b[1;32m    962\u001b[0m \u001b[0;34m\u001b[0m\u001b[0m\n",
            "\u001b[0;32m/usr/local/lib/python3.7/dist-packages/tensorflow/python/keras/engine/base_layer.py\u001b[0m in \u001b[0;36m_split_out_first_arg\u001b[0;34m(self, args, kwargs)\u001b[0m\n\u001b[1;32m   2976\u001b[0m     \u001b[0;32melse\u001b[0m\u001b[0;34m:\u001b[0m\u001b[0;34m\u001b[0m\u001b[0;34m\u001b[0m\u001b[0m\n\u001b[1;32m   2977\u001b[0m       raise ValueError(\n\u001b[0;32m-> 2978\u001b[0;31m           'The first argument to `Layer.call` must always be passed.')\n\u001b[0m\u001b[1;32m   2979\u001b[0m     \u001b[0;32mreturn\u001b[0m \u001b[0minputs\u001b[0m\u001b[0;34m,\u001b[0m \u001b[0margs\u001b[0m\u001b[0;34m,\u001b[0m \u001b[0mkwargs\u001b[0m\u001b[0;34m\u001b[0m\u001b[0;34m\u001b[0m\u001b[0m\n\u001b[1;32m   2980\u001b[0m \u001b[0;34m\u001b[0m\u001b[0m\n",
            "\u001b[0;31mValueError\u001b[0m: The first argument to `Layer.call` must always be passed."
          ]
        }
      ]
    },
    {
      "cell_type": "code",
      "metadata": {
        "id": "jvxCZg22nwpx"
      },
      "source": [
        ""
      ],
      "execution_count": null,
      "outputs": []
    }
  ]
}